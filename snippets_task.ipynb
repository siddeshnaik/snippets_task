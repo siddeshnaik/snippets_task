{
 "cells": [
  {
   "cell_type": "code",
   "execution_count": 12,
   "metadata": {},
   "outputs": [
    {
     "name": "stdout",
     "output_type": "stream",
     "text": [
      "enter the number of elements you want to enter in the list5\n",
      "enter the a data for the list (To enter new data click enter on your keyboard)4\n",
      "enter the a data for the list (To enter new data click enter on your keyboard)3\n",
      "enter the a data for the list (To enter new data click enter on your keyboard)df\n",
      "enter the a data for the list (To enter new data click enter on your keyboard)sdfss\n",
      "enter the a data for the list (To enter new data click enter on your keyboard)dsdf\n",
      "Your list  ['4', '3', 'df', 'sdfss', 'dsdf']\n",
      "Enter the index number where you want to change the value in the list2\n",
      "Enter new data455\n",
      "['4', '3', '455', 'sdfss', 'dsdf']\n"
     ]
    }
   ],
   "source": [
    "#assingning elements to different list\n",
    "list1=[]\n",
    "n=int(input(\"enter the number of elements you want to enter in the list\"))\n",
    "for x in range(0,n):\n",
    "    list1.append(input(\"enter the a data for the list (To enter new data click enter on your keyboard)\"))\n",
    "    \n",
    "    \n",
    "print(\"Your list \",list1)\n",
    "\n",
    "#changing a value in list 1\n",
    "m=int(input(\"Enter the index number where you want to change the value in the list \"))\n",
    "\n",
    "if(m<len(list1)):\n",
    "    ele=input(\"Enter new data\")\n",
    "    list1[m]=ele\n",
    "    \n",
    "else:\n",
    "    print(\"the index you have entered is out of range for the list\")\n",
    "    \n",
    "\n",
    "print(list1)    "
   ]
  },
  {
   "cell_type": "code",
   "execution_count": 8,
   "metadata": {},
   "outputs": [
    {
     "name": "stdout",
     "output_type": "stream",
     "text": [
      "(1, 2, 3, 'machine', 'learning', 'lets go')\n",
      "enter the index of the element that you would like to acesses: 5\n",
      "acessed element is: lets go\n",
      "\n",
      "\n",
      "All the other elements of the tupples are:\n",
      "1\n",
      "2\n",
      "3\n",
      "machine\n",
      "learning\n",
      "lets go\n"
     ]
    }
   ],
   "source": [
    "#acessing elements from a tuple\n",
    "mytup=(1,2,3,\"machine\",\"learning\",\"lets go\")\n",
    "print(mytup)\n",
    "n=int(input(\"enter the index of the element that you would like to acesses: \"))\n",
    "\n",
    "if (n<6):\n",
    "    print(\"acessed element is:\",mytup[n])\n",
    "    print(\"\\n\")\n",
    "\n",
    "else:\n",
    "    print(\"enter a number in the range from 0 to 5\")\n",
    "    \n",
    "print(\"All the other elements of the tupples are:\")\n",
    "for i in range(0,len(mytup)):\n",
    "    print(mytup[i])"
   ]
  },
  {
   "cell_type": "code",
   "execution_count": 1,
   "metadata": {},
   "outputs": [
    {
     "name": "stdout",
     "output_type": "stream",
     "text": [
      "{'India': 'Indian rupees', 'U.S.A': 'dollars', 'Russia': 'Russian Ruble', 'Canada': 'canadian dollar', 'france': 'european euro', 'japan': 'japanese yen'}\n",
      "How many elements do to want to delete 2\n",
      "enter the key from the dictionary which you want to delete U.S.A\n",
      "Dictionary after deleting key value pair of the key  U.S.A  is {'India': 'Indian rupees', 'Russia': 'Russian Ruble', 'Canada': 'canadian dollar', 'france': 'european euro', 'japan': 'japanese yen'}\n",
      "enter the key from the dictionary which you want to delete Russia\n",
      "Dictionary after deleting key value pair of the key  Russia  is {'India': 'Indian rupees', 'Canada': 'canadian dollar', 'france': 'european euro', 'japan': 'japanese yen'}\n",
      "Final dictionary is : {'India': 'Indian rupees', 'Canada': 'canadian dollar', 'france': 'european euro', 'japan': 'japanese yen'}\n"
     ]
    }
   ],
   "source": [
    "#Deleting different dictionary elements\n",
    "mydict={\"India\":\"Indian rupees\",\"U.S.A\":\"dollars\",\"Russia\":\"Russian Ruble\",\"Canada\":\"canadian dollar\",\"france\":\"european euro\",\"japan\":\"japanese yen\",}\n",
    "print(mydict)\n",
    "n=int(input(\"How many elements do to want to delete \"))\n",
    "for i in range(0,n):\n",
    "    ele=input(\"enter the key from the dictionary which you want to delete \")\n",
    "    del mydict[ele]\n",
    "    print(\"Dictionary after deleting key value pair of the key \",ele,\" is\",mydict)\n",
    "    \n",
    "print(\"Final dictionary is :\",mydict)"
   ]
  },
  {
   "cell_type": "code",
   "execution_count": null,
   "metadata": {},
   "outputs": [],
   "source": []
  }
 ],
 "metadata": {
  "kernelspec": {
   "display_name": "Python 3",
   "language": "python",
   "name": "python3"
  },
  "language_info": {
   "codemirror_mode": {
    "name": "ipython",
    "version": 3
   },
   "file_extension": ".py",
   "mimetype": "text/x-python",
   "name": "python",
   "nbconvert_exporter": "python",
   "pygments_lexer": "ipython3",
   "version": "3.7.6"
  }
 },
 "nbformat": 4,
 "nbformat_minor": 4
}
